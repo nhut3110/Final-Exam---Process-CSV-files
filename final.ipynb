{
 "cells": [
  {
   "cell_type": "markdown",
   "source": [
    "**Question 1: Import numpy, pandas, visualization libraries.**"
   ],
   "metadata": {}
  },
  {
   "cell_type": "code",
   "execution_count": 1,
   "source": [
    "import pandas as pd\r\n",
    "import matplotlib.pyplot as plt\r\n",
    "import datetime\r\n",
    "import time\r\n",
    "import numpy\r\n",
    "from numpy import median"
   ],
   "outputs": [],
   "metadata": {}
  },
  {
   "cell_type": "markdown",
   "source": [
    "**Question 2: Create timer and include time measure for all questions from Part II.**"
   ],
   "metadata": {}
  },
  {
   "cell_type": "code",
   "execution_count": 2,
   "source": [
    "import time\r\n",
    "class Timer(object):\r\n",
    "    def __init__(self):\r\n",
    "        self.times = []\r\n",
    "        self.start()\r\n",
    "\r\n",
    "    def start(self):\r\n",
    "        self.start_time = time.time()\r\n",
    "\r\n",
    "    def stop(self):\r\n",
    "        self.times.append(time.time() - self.start_time)\r\n",
    "        return self.times[-1]"
   ],
   "outputs": [],
   "metadata": {}
  },
  {
   "cell_type": "markdown",
   "source": [
    "**Question 3: Read in three csv files and print first five lines of each of them.**"
   ],
   "metadata": {}
  },
  {
   "cell_type": "code",
   "execution_count": 11,
   "source": [
    "timer = Timer()\r\n",
    "timer.start()\r\n",
    "mylist = []\r\n",
    "dataLarge = pd.read_csv(\"data_large.csv\")\r\n",
    "dataMedium = pd.read_csv(\"data_medium.csv\")\r\n",
    "dataSmall = pd.read_csv(\"data_small.csv\")\r\n",
    "print('Time to read 3 files is %.5f sec' % timer.stop())"
   ],
   "outputs": [
    {
     "output_type": "stream",
     "name": "stdout",
     "text": [
      "Time to read 3 files is 93.91937 sec\n"
     ]
    }
   ],
   "metadata": {}
  },
  {
   "cell_type": "code",
   "execution_count": 7,
   "source": [
    "print(dataLarge)"
   ],
   "outputs": [
    {
     "output_type": "stream",
     "name": "stdout",
     "text": [
      "<pandas.io.parsers.readers.TextFileReader object at 0x0000025A92AF9550>\n"
     ]
    }
   ],
   "metadata": {}
  },
  {
   "cell_type": "code",
   "execution_count": 5,
   "source": [
    "dataMedium.head(5)"
   ],
   "outputs": [
    {
     "output_type": "execute_result",
     "data": {
      "text/html": [
       "<div>\n",
       "<style scoped>\n",
       "    .dataframe tbody tr th:only-of-type {\n",
       "        vertical-align: middle;\n",
       "    }\n",
       "\n",
       "    .dataframe tbody tr th {\n",
       "        vertical-align: top;\n",
       "    }\n",
       "\n",
       "    .dataframe thead th {\n",
       "        text-align: right;\n",
       "    }\n",
       "</style>\n",
       "<table border=\"1\" class=\"dataframe\">\n",
       "  <thead>\n",
       "    <tr style=\"text-align: right;\">\n",
       "      <th></th>\n",
       "      <th>VendorID</th>\n",
       "      <th>tpep_pickup_datetime</th>\n",
       "      <th>tpep_dropoff_datetime</th>\n",
       "      <th>passenger_count</th>\n",
       "      <th>trip_distance</th>\n",
       "      <th>payment_type</th>\n",
       "      <th>fare_amount</th>\n",
       "      <th>extra</th>\n",
       "      <th>mta_tax</th>\n",
       "      <th>tip_amount</th>\n",
       "      <th>tolls_amount</th>\n",
       "      <th>improvement_surcharge</th>\n",
       "      <th>total_amount</th>\n",
       "    </tr>\n",
       "  </thead>\n",
       "  <tbody>\n",
       "    <tr>\n",
       "      <th>0</th>\n",
       "      <td>2</td>\n",
       "      <td>2016-02-18 08:57:09</td>\n",
       "      <td>2016-02-18 09:11:37</td>\n",
       "      <td>1</td>\n",
       "      <td>1.95</td>\n",
       "      <td>1</td>\n",
       "      <td>11.5</td>\n",
       "      <td>0.0</td>\n",
       "      <td>0.5</td>\n",
       "      <td>2.46</td>\n",
       "      <td>0.0</td>\n",
       "      <td>0.3</td>\n",
       "      <td>14.76</td>\n",
       "    </tr>\n",
       "    <tr>\n",
       "      <th>1</th>\n",
       "      <td>1</td>\n",
       "      <td>2016-03-10 14:12:32</td>\n",
       "      <td>2016-03-10 14:16:26</td>\n",
       "      <td>1</td>\n",
       "      <td>0.60</td>\n",
       "      <td>2</td>\n",
       "      <td>4.5</td>\n",
       "      <td>0.0</td>\n",
       "      <td>0.5</td>\n",
       "      <td>0.00</td>\n",
       "      <td>0.0</td>\n",
       "      <td>0.3</td>\n",
       "      <td>5.30</td>\n",
       "    </tr>\n",
       "    <tr>\n",
       "      <th>2</th>\n",
       "      <td>1</td>\n",
       "      <td>2016-02-06 06:48:40</td>\n",
       "      <td>2016-02-06 06:58:14</td>\n",
       "      <td>1</td>\n",
       "      <td>3.00</td>\n",
       "      <td>2</td>\n",
       "      <td>11.0</td>\n",
       "      <td>0.0</td>\n",
       "      <td>0.5</td>\n",
       "      <td>0.00</td>\n",
       "      <td>0.0</td>\n",
       "      <td>0.3</td>\n",
       "      <td>11.80</td>\n",
       "    </tr>\n",
       "    <tr>\n",
       "      <th>3</th>\n",
       "      <td>2</td>\n",
       "      <td>2016-03-10 16:31:22</td>\n",
       "      <td>2016-03-10 16:41:44</td>\n",
       "      <td>4</td>\n",
       "      <td>1.25</td>\n",
       "      <td>2</td>\n",
       "      <td>8.0</td>\n",
       "      <td>1.0</td>\n",
       "      <td>0.5</td>\n",
       "      <td>0.00</td>\n",
       "      <td>0.0</td>\n",
       "      <td>0.3</td>\n",
       "      <td>9.80</td>\n",
       "    </tr>\n",
       "    <tr>\n",
       "      <th>4</th>\n",
       "      <td>2</td>\n",
       "      <td>2016-03-01 20:58:57</td>\n",
       "      <td>2016-03-01 21:04:09</td>\n",
       "      <td>1</td>\n",
       "      <td>1.49</td>\n",
       "      <td>2</td>\n",
       "      <td>6.5</td>\n",
       "      <td>0.5</td>\n",
       "      <td>0.5</td>\n",
       "      <td>0.00</td>\n",
       "      <td>0.0</td>\n",
       "      <td>0.3</td>\n",
       "      <td>7.80</td>\n",
       "    </tr>\n",
       "  </tbody>\n",
       "</table>\n",
       "</div>"
      ],
      "text/plain": [
       "   VendorID tpep_pickup_datetime tpep_dropoff_datetime  passenger_count  \\\n",
       "0         2  2016-02-18 08:57:09   2016-02-18 09:11:37                1   \n",
       "1         1  2016-03-10 14:12:32   2016-03-10 14:16:26                1   \n",
       "2         1  2016-02-06 06:48:40   2016-02-06 06:58:14                1   \n",
       "3         2  2016-03-10 16:31:22   2016-03-10 16:41:44                4   \n",
       "4         2  2016-03-01 20:58:57   2016-03-01 21:04:09                1   \n",
       "\n",
       "   trip_distance  payment_type  fare_amount  extra  mta_tax  tip_amount  \\\n",
       "0           1.95             1         11.5    0.0      0.5        2.46   \n",
       "1           0.60             2          4.5    0.0      0.5        0.00   \n",
       "2           3.00             2         11.0    0.0      0.5        0.00   \n",
       "3           1.25             2          8.0    1.0      0.5        0.00   \n",
       "4           1.49             2          6.5    0.5      0.5        0.00   \n",
       "\n",
       "   tolls_amount  improvement_surcharge  total_amount  \n",
       "0           0.0                    0.3         14.76  \n",
       "1           0.0                    0.3          5.30  \n",
       "2           0.0                    0.3         11.80  \n",
       "3           0.0                    0.3          9.80  \n",
       "4           0.0                    0.3          7.80  "
      ]
     },
     "metadata": {},
     "execution_count": 5
    }
   ],
   "metadata": {}
  },
  {
   "cell_type": "code",
   "execution_count": 6,
   "source": [
    "dataSmall.head(5)"
   ],
   "outputs": [
    {
     "output_type": "execute_result",
     "data": {
      "text/html": [
       "<div>\n",
       "<style scoped>\n",
       "    .dataframe tbody tr th:only-of-type {\n",
       "        vertical-align: middle;\n",
       "    }\n",
       "\n",
       "    .dataframe tbody tr th {\n",
       "        vertical-align: top;\n",
       "    }\n",
       "\n",
       "    .dataframe thead th {\n",
       "        text-align: right;\n",
       "    }\n",
       "</style>\n",
       "<table border=\"1\" class=\"dataframe\">\n",
       "  <thead>\n",
       "    <tr style=\"text-align: right;\">\n",
       "      <th></th>\n",
       "      <th>VendorID</th>\n",
       "      <th>tpep_pickup_datetime</th>\n",
       "      <th>tpep_dropoff_datetime</th>\n",
       "      <th>passenger_count</th>\n",
       "      <th>trip_distance</th>\n",
       "      <th>payment_type</th>\n",
       "      <th>fare_amount</th>\n",
       "      <th>extra</th>\n",
       "      <th>mta_tax</th>\n",
       "      <th>tip_amount</th>\n",
       "      <th>tolls_amount</th>\n",
       "      <th>improvement_surcharge</th>\n",
       "      <th>total_amount</th>\n",
       "    </tr>\n",
       "  </thead>\n",
       "  <tbody>\n",
       "    <tr>\n",
       "      <th>0</th>\n",
       "      <td>2</td>\n",
       "      <td>2016-03-29 07:54:27</td>\n",
       "      <td>2016-03-29 08:01:58</td>\n",
       "      <td>2</td>\n",
       "      <td>1.31</td>\n",
       "      <td>1</td>\n",
       "      <td>7.0</td>\n",
       "      <td>0.0</td>\n",
       "      <td>0.5</td>\n",
       "      <td>1.56</td>\n",
       "      <td>0.0</td>\n",
       "      <td>0.3</td>\n",
       "      <td>9.36</td>\n",
       "    </tr>\n",
       "    <tr>\n",
       "      <th>1</th>\n",
       "      <td>2</td>\n",
       "      <td>2016-02-18 10:33:03</td>\n",
       "      <td>2016-02-18 10:37:17</td>\n",
       "      <td>1</td>\n",
       "      <td>0.97</td>\n",
       "      <td>1</td>\n",
       "      <td>5.5</td>\n",
       "      <td>0.0</td>\n",
       "      <td>0.5</td>\n",
       "      <td>1.26</td>\n",
       "      <td>0.0</td>\n",
       "      <td>0.3</td>\n",
       "      <td>7.56</td>\n",
       "    </tr>\n",
       "    <tr>\n",
       "      <th>2</th>\n",
       "      <td>1</td>\n",
       "      <td>2016-03-17 11:30:47</td>\n",
       "      <td>2016-03-17 11:46:40</td>\n",
       "      <td>1</td>\n",
       "      <td>2.10</td>\n",
       "      <td>2</td>\n",
       "      <td>11.5</td>\n",
       "      <td>0.0</td>\n",
       "      <td>0.5</td>\n",
       "      <td>0.00</td>\n",
       "      <td>0.0</td>\n",
       "      <td>0.3</td>\n",
       "      <td>12.30</td>\n",
       "    </tr>\n",
       "    <tr>\n",
       "      <th>3</th>\n",
       "      <td>1</td>\n",
       "      <td>2016-03-26 19:49:01</td>\n",
       "      <td>2016-03-26 20:01:30</td>\n",
       "      <td>4</td>\n",
       "      <td>1.60</td>\n",
       "      <td>2</td>\n",
       "      <td>9.0</td>\n",
       "      <td>0.5</td>\n",
       "      <td>0.5</td>\n",
       "      <td>0.00</td>\n",
       "      <td>0.0</td>\n",
       "      <td>0.3</td>\n",
       "      <td>10.30</td>\n",
       "    </tr>\n",
       "    <tr>\n",
       "      <th>4</th>\n",
       "      <td>1</td>\n",
       "      <td>2016-02-12 21:42:23</td>\n",
       "      <td>2016-02-12 21:48:37</td>\n",
       "      <td>1</td>\n",
       "      <td>1.10</td>\n",
       "      <td>2</td>\n",
       "      <td>6.0</td>\n",
       "      <td>0.5</td>\n",
       "      <td>0.5</td>\n",
       "      <td>0.00</td>\n",
       "      <td>0.0</td>\n",
       "      <td>0.3</td>\n",
       "      <td>7.30</td>\n",
       "    </tr>\n",
       "  </tbody>\n",
       "</table>\n",
       "</div>"
      ],
      "text/plain": [
       "   VendorID tpep_pickup_datetime tpep_dropoff_datetime  passenger_count  \\\n",
       "0         2  2016-03-29 07:54:27   2016-03-29 08:01:58                2   \n",
       "1         2  2016-02-18 10:33:03   2016-02-18 10:37:17                1   \n",
       "2         1  2016-03-17 11:30:47   2016-03-17 11:46:40                1   \n",
       "3         1  2016-03-26 19:49:01   2016-03-26 20:01:30                4   \n",
       "4         1  2016-02-12 21:42:23   2016-02-12 21:48:37                1   \n",
       "\n",
       "   trip_distance  payment_type  fare_amount  extra  mta_tax  tip_amount  \\\n",
       "0           1.31             1          7.0    0.0      0.5        1.56   \n",
       "1           0.97             1          5.5    0.0      0.5        1.26   \n",
       "2           2.10             2         11.5    0.0      0.5        0.00   \n",
       "3           1.60             2          9.0    0.5      0.5        0.00   \n",
       "4           1.10             2          6.0    0.5      0.5        0.00   \n",
       "\n",
       "   tolls_amount  improvement_surcharge  total_amount  \n",
       "0           0.0                    0.3          9.36  \n",
       "1           0.0                    0.3          7.56  \n",
       "2           0.0                    0.3         12.30  \n",
       "3           0.0                    0.3         10.30  \n",
       "4           0.0                    0.3          7.30  "
      ]
     },
     "metadata": {},
     "execution_count": 6
    }
   ],
   "metadata": {}
  },
  {
   "cell_type": "markdown",
   "source": [
    "**Question 4: Code the function to calculate how many passengers pay through each type of payment types.**"
   ],
   "metadata": {}
  },
  {
   "cell_type": "code",
   "execution_count": 7,
   "source": [
    "def questionFour(data):\r\n",
    "    timer = Timer()\r\n",
    "    timer.start()\r\n",
    "    temp = data['payment_type'].values.tolist()\r\n",
    "    paymentType = set(temp)\r\n",
    "    #print(paymentType)\r\n",
    "    count = 0\r\n",
    "    result = []\r\n",
    "    for i in paymentType:\r\n",
    "        for j in temp:\r\n",
    "            if i == j:\r\n",
    "                count += 1\r\n",
    "        result.append(count)\r\n",
    "        count = 0\r\n",
    "    paymentType = list(paymentType)\r\n",
    "    print('Time to exec func %.5f sec:' % timer.stop())\r\n",
    "    for i in range(len(paymentType)):\r\n",
    "        print('there was/were',result[i],'passenger choosing the',paymentType[i],'payment method')\r\n",
    "    "
   ],
   "outputs": [],
   "metadata": {}
  },
  {
   "cell_type": "code",
   "execution_count": 8,
   "source": [
    "questionFour(dataSmall)"
   ],
   "outputs": [
    {
     "output_type": "stream",
     "name": "stdout",
     "text": [
      "Time to exec func 0.00200 sec:\n",
      "there was/were 6718 passenger choosing the 1 payment method\n",
      "there was/were 3235 passenger choosing the 2 payment method\n",
      "there was/were 32 passenger choosing the 3 payment method\n",
      "there was/were 15 passenger choosing the 4 payment method\n"
     ]
    }
   ],
   "metadata": {}
  },
  {
   "cell_type": "code",
   "execution_count": 9,
   "source": [
    "questionFour(dataMedium)"
   ],
   "outputs": [
    {
     "output_type": "stream",
     "name": "stdout",
     "text": [
      "Time to exec func 0.10102 sec:\n",
      "there was/were 669824 passenger choosing the 1 payment method\n",
      "there was/were 325150 passenger choosing the 2 payment method\n",
      "there was/were 3654 passenger choosing the 3 payment method\n",
      "there was/were 1372 passenger choosing the 4 payment method\n"
     ]
    }
   ],
   "metadata": {}
  },
  {
   "cell_type": "code",
   "execution_count": 10,
   "source": [
    "questionFour(dataLarge)"
   ],
   "outputs": [
    {
     "output_type": "stream",
     "name": "stdout",
     "text": [
      "Time to exec func 2.34470 sec:\n",
      "there was/were 15807750 passenger choosing the 1 payment method\n",
      "there was/were 7667443 passenger choosing the 2 payment method\n",
      "there was/were 87187 passenger choosing the 3 payment method\n",
      "there was/were 30621 passenger choosing the 4 payment method\n"
     ]
    }
   ],
   "metadata": {}
  },
  {
   "cell_type": "markdown",
   "source": [
    "**Question 5: Code function to find min, max, mean of the cost for 1 trips on the given day of the specific month (only use the dropoff time).**"
   ],
   "metadata": {}
  },
  {
   "cell_type": "code",
   "execution_count": 11,
   "source": [
    "timer = Timer()\r\n",
    "timer.start()\r\n",
    "def get_date_info(df):\r\n",
    "    df['year'] = df['tpep_dropoff_datetime'].dt.year\r\n",
    "    df['month'] = df['tpep_dropoff_datetime'].dt.month\r\n",
    "    df['day'] = df['tpep_dropoff_datetime'].dt.day\r\n",
    "    #df['hour'] = df['tpep_dropoff_datetime'].dt.hour\r\n",
    "    df['time'] = df['tpep_dropoff_datetime'].dt.time\r\n",
    "    return(df)\r\n",
    "\r\n",
    "dataSmall['tpep_dropoff_datetime'] = pd.to_datetime(dataSmall['tpep_dropoff_datetime'])\r\n",
    "dataSmall = get_date_info(dataSmall)\r\n",
    "\r\n",
    "dataMedium['tpep_dropoff_datetime'] = pd.to_datetime(dataMedium['tpep_dropoff_datetime'])\r\n",
    "dataMedium = get_date_info(dataMedium)\r\n",
    "\r\n",
    "dataLarge['tpep_dropoff_datetime'] = pd.to_datetime(dataLarge['tpep_dropoff_datetime'])\r\n",
    "dataLarge = get_date_info(dataLarge)\r\n",
    "\r\n",
    "print('Time to create new time columns %.5f sec' % timer.stop())"
   ],
   "outputs": [
    {
     "output_type": "stream",
     "name": "stdout",
     "text": [
      "Time to create new time columns 32.40892 sec\n"
     ]
    }
   ],
   "metadata": {}
  },
  {
   "cell_type": "code",
   "execution_count": 12,
   "source": [
    "def subsetDayAndMonth(d,m,data):\r\n",
    "    df = pd.DataFrame()\r\n",
    "    df['cost'] = data['total_amount'][(data['month'] == m) & (data['day'] == d)]\r\n",
    "    return df"
   ],
   "outputs": [],
   "metadata": {}
  },
  {
   "cell_type": "code",
   "execution_count": 13,
   "source": [
    "def questionFive(data):\r\n",
    "    timer = Timer()\r\n",
    "    m = int(input('Which month you want to choose, Feb or Mar? Input a number: '))\r\n",
    "    d = int(input('Input a day: '))\r\n",
    "    timer.start()\r\n",
    "    df1 = subsetDayAndMonth(d,m,data).reset_index(drop=True, inplace=False)\r\n",
    "    costList = df1['cost'].values.tolist()\r\n",
    "    minCost = costList[0]\r\n",
    "    maxCost = costList[0]\r\n",
    "    meanCost = 0\r\n",
    "    for i in costList:\r\n",
    "        if (minCost > i): minCost = i\r\n",
    "        if (maxCost < i): maxCost = i\r\n",
    "        meanCost += i \r\n",
    "    meanCost = meanCost/len(costList)\r\n",
    "    givenDate = str(d)+'/'+str(m)+':'\r\n",
    "    print('Time to exec func %.5f sec:' % timer.stop())\r\n",
    "    print('On the day',givenDate)\r\n",
    "    print('     - the min cost is',minCost)\r\n",
    "    print('     - the mean cost is',meanCost)\r\n",
    "    print('     - the max cost is',maxCost)\r\n",
    "        "
   ],
   "outputs": [],
   "metadata": {}
  },
  {
   "cell_type": "code",
   "execution_count": 14,
   "source": [
    "questionFive(dataSmall)"
   ],
   "outputs": [],
   "metadata": {}
  },
  {
   "cell_type": "code",
   "execution_count": null,
   "source": [
    "questionFive(dataMedium)"
   ],
   "outputs": [
    {
     "output_type": "stream",
     "name": "stdout",
     "text": [
      "Time to exec func 0.03000 sec:\n",
      "On the day 2/3:\n",
      "     - the min cost is -57.3\n",
      "     - the mean cost is 15.725135197195861\n",
      "     - the max cost is 290.39\n"
     ]
    }
   ],
   "metadata": {}
  },
  {
   "cell_type": "code",
   "execution_count": null,
   "source": [
    "questionFive(dataLarge)"
   ],
   "outputs": [
    {
     "output_type": "stream",
     "name": "stdout",
     "text": [
      "Time to exec func 0.27106 sec:\n",
      "On the day 2/3:\n",
      "     - the min cost is -110.64\n",
      "     - the mean cost is 15.658471130034336\n",
      "     - the max cost is 934.37\n"
     ]
    }
   ],
   "metadata": {}
  },
  {
   "cell_type": "markdown",
   "source": [
    "**Question 6: Code the function to count how many trips that drop off at the midnight (11 PM to 1 AM) on the given day of the specific month.**"
   ],
   "metadata": {}
  },
  {
   "cell_type": "code",
   "execution_count": null,
   "source": [
    "midnight_bg = datetime.time(23,0,0)\r\n",
    "midnight_end = datetime.time(1,0,0) "
   ],
   "outputs": [],
   "metadata": {}
  },
  {
   "cell_type": "code",
   "execution_count": null,
   "source": [
    "def questionSix(data):\r\n",
    "    timer = Timer()\r\n",
    "    m = int(input('Which month you want to choose, Feb or Mar? Input a number: '))\r\n",
    "    d = int(input('Input a day: '))\r\n",
    "    timer.start()\r\n",
    "    subset = pd.DataFrame()\r\n",
    "    subset['time'] = data['time'][(data['month'] == m) & (data['day'] == d) & ((data['time'] <= midnight_end) | (data['time'] >= midnight_bg))]\r\n",
    "    date = str(d)+'/'+str(m)\r\n",
    "    print('Time to exec func %.5f sec:' % timer.stop())\r\n",
    "    print('there was/were',len(subset['time']),'trip(s) that drop off at midnight on',date)"
   ],
   "outputs": [],
   "metadata": {}
  },
  {
   "cell_type": "code",
   "execution_count": null,
   "source": [
    "questionSix(dataSmall)"
   ],
   "outputs": [
    {
     "output_type": "stream",
     "name": "stdout",
     "text": [
      "Time to exec func 0.00600 sec:\n",
      "there was/were 17 trip(s) that drop off at midnight on 2/3\n"
     ]
    }
   ],
   "metadata": {}
  },
  {
   "cell_type": "code",
   "execution_count": null,
   "source": [
    "questionSix(dataMedium)"
   ],
   "outputs": [
    {
     "output_type": "stream",
     "name": "stdout",
     "text": [
      "Time to exec func 0.09703 sec:\n",
      "there was/were 1320 trip(s) that drop off at midnight on 2/3\n"
     ]
    }
   ],
   "metadata": {}
  },
  {
   "cell_type": "code",
   "execution_count": null,
   "source": [
    "questionSix(dataLarge)"
   ],
   "outputs": [
    {
     "output_type": "stream",
     "name": "stdout",
     "text": [
      "Time to exec func 1.83380 sec:\n",
      "there was/were 29977 trip(s) that drop off at midnight on 2/3\n"
     ]
    }
   ],
   "metadata": {}
  },
  {
   "cell_type": "markdown",
   "source": [
    "**Question 7: Write your own ascending sort function and sort values in fare_amount column on the given day of the specific month then display the negative amount payment and count how many values under 10$.**"
   ],
   "metadata": {}
  },
  {
   "cell_type": "code",
   "execution_count": null,
   "source": [
    "def quick_sort(array, start, end):\r\n",
    "    if (start <= end):\r\n",
    "        key = array[(start+end)//2]\r\n",
    "        i = start \r\n",
    "        j = end\r\n",
    "        while (i<=j):\r\n",
    "            while (array[i] < key): i+=1\r\n",
    "            while (array[j] > key): j-=1\r\n",
    "            if (i<=j):  \r\n",
    "                array[i],array[j] = array[j],array[i]\r\n",
    "                i+=1\r\n",
    "                j-=1\r\n",
    "        if (start < j): quick_sort(array,start,j)\r\n",
    "        if (end > i): quick_sort(array,i,end)"
   ],
   "outputs": [],
   "metadata": {}
  },
  {
   "cell_type": "code",
   "execution_count": null,
   "source": [
    "def questionSeven(data):\r\n",
    "    timer = Timer()\r\n",
    "    m = int(input('Which month you want to choose, Feb or Mar? Input a number: '))\r\n",
    "    d = int(input('Input a day: '))\r\n",
    "    timer.start()\r\n",
    "    newArray = data['fare_amount'][(data['month'] == m) & (data['day'] == d)].values.tolist()\r\n",
    "    quick_sort(newArray,0,len(newArray)-1)\r\n",
    "    neg = []\r\n",
    "    for i in newArray:\r\n",
    "        if i < 0:\r\n",
    "            neg.append(i)\r\n",
    "    count = 0\r\n",
    "    for i in newArray:\r\n",
    "        if i < 10: \r\n",
    "            count += 1\r\n",
    "    print('Time to exec func %.5f sec:' % timer.stop())\r\n",
    "    givenDate = str(d)+'/'+str(m)+':'\r\n",
    "    print('On the day',givenDate)\r\n",
    "    print('The number of negative amount payment is/are',neg if len(neg)>0 else '0')\r\n",
    "    print('The was/were',count,'/',len(newArray),'value(s) under 10$')"
   ],
   "outputs": [],
   "metadata": {}
  },
  {
   "cell_type": "code",
   "execution_count": null,
   "source": [
    "questionSeven(dataSmall)"
   ],
   "outputs": [
    {
     "output_type": "stream",
     "name": "stdout",
     "text": [
      "Time to exec func 0.00200 sec:\n",
      "On the day 2/3:\n",
      "The number of negative amount payment is/are 0\n",
      "The was/were 106 / 181 value(s) under 10$\n"
     ]
    }
   ],
   "metadata": {}
  },
  {
   "cell_type": "code",
   "execution_count": null,
   "source": [
    "questionSeven(dataMedium)"
   ],
   "outputs": [
    {
     "output_type": "stream",
     "name": "stdout",
     "text": [
      "Time to exec func 0.04402 sec:\n",
      "On the day 2/3:\n",
      "The number of negative amount payment is/are [-52.0, -4.5, -3.5, -3.5, -3.0, -2.5, -2.5, -2.5]\n",
      "The was/were 9372 / 17419 value(s) under 10$\n"
     ]
    }
   ],
   "metadata": {}
  },
  {
   "cell_type": "code",
   "execution_count": null,
   "source": [
    "questionSeven(dataLarge)"
   ],
   "outputs": [
    {
     "output_type": "stream",
     "name": "stdout",
     "text": [
      "Time to exec func 1.05176 sec:\n",
      "On the day 2/3:\n",
      "The number of negative amount payment is/are [-93.8, -52.0, -52.0, -52.0, -52.0, -52.0, -52.0, -52.0, -52.0, -29.3, -26.3, -20.0, -20.0, -20.0, -15.3, -10.5, -7.0, -7.0, -7.0, -6.5, -6.5, -6.5, -6.5, -6.5, -6.0, -6.0, -6.0, -6.0, -6.0, -6.0, -6.0, -6.0, -5.5, -5.5, -5.5, -5.5, -5.5, -5.0, -5.0, -5.0, -5.0, -5.0, -5.0, -5.0, -5.0, -5.0, -5.0, -5.0, -5.0, -5.0, -4.5, -4.5, -4.5, -4.5, -4.5, -4.5, -4.5, -4.5, -4.5, -4.5, -4.0, -4.0, -4.0, -4.0, -4.0, -4.0, -4.0, -4.0, -4.0, -3.5, -3.5, -3.5, -3.5, -3.5, -3.5, -3.5, -3.5, -3.5, -3.5, -3.5, -3.0, -3.0, -3.0, -3.0, -3.0, -3.0, -3.0, -3.0, -3.0, -3.0, -3.0, -3.0, -3.0, -2.5, -2.5, -2.5, -2.5, -2.5, -2.5, -2.5, -2.5, -2.5, -2.5, -2.5, -2.5, -2.5, -2.5, -2.5, -2.5, -2.5, -2.5, -2.5, -2.5, -2.5, -2.5, -2.5, -2.5, -2.5, -2.5, -2.5, -2.5, -2.5, -2.5, -2.5, -2.5, -2.5, -2.5, -2.5, -2.5, -2.5, -2.5, -2.5, -2.5, -2.5, -2.5, -2.5, -2.5, -2.5, -2.5, -2.5, -2.5, -2.5, -2.5, -2.5, -2.5, -2.5, -2.5]\n",
      "The was/were 219292 / 406444 value(s) under 10$\n"
     ]
    }
   ],
   "metadata": {}
  },
  {
   "cell_type": "markdown",
   "source": [
    "**Question 8: Code the function to search and return number of passengers that tip drivers in four levels (no tips, under 3$, between 3$ and 5$, above 5$) and display the highest tip amount.**"
   ],
   "metadata": {}
  },
  {
   "cell_type": "code",
   "execution_count": null,
   "source": [
    "tipLevels = {'no tips':0,'under 3$':0, 'bw 3$ and 5$':0,'above 5$':0}\r\n",
    "def questionEight(data):\r\n",
    "    timer = Timer()\r\n",
    "    timer.start()\r\n",
    "    tips = data['tip_amount'].values.tolist()\r\n",
    "    maxTip = tips[0]\r\n",
    "    for i in tips:\r\n",
    "        if i == 0:\r\n",
    "            tipLevels['no tips'] +=1\r\n",
    "        else:\r\n",
    "            if i < 3: tipLevels['under 3$'] += 1\r\n",
    "            if 3 <= i <= 5: tipLevels['bw 3$ and 5$'] += 1\r\n",
    "            if i > 5: tipLevels['above 5$'] += 1\r\n",
    "        if maxTip < i:\r\n",
    "            maxTip = i\r\n",
    "    print('Time to exec func %.5f sec:' % timer.stop())\r\n",
    "    print('there was/were',tipLevels['no tips'],'passenger(s) that do not give drive any tips')\r\n",
    "    print('there was/were',tipLevels['under 3$'],'passenger(s) that give tips under 3$')\r\n",
    "    print('there was/were',tipLevels['bw 3$ and 5$'],'passenger(s) that give tips between 3$ and 5$')\r\n",
    "    print('there was/were',tipLevels['above 5$'],'passenger(s) that give tips above 5$')\r\n",
    "    print('the highest tip is',maxTip)"
   ],
   "outputs": [],
   "metadata": {}
  },
  {
   "cell_type": "code",
   "execution_count": null,
   "source": [
    "questionEight(dataSmall)"
   ],
   "outputs": [
    {
     "output_type": "stream",
     "name": "stdout",
     "text": [
      "Time to exec func 0.00200 sec:\n",
      "there was/were 3534 passenger(s) that do not give drive any tips\n",
      "there was/were 4754 passenger(s) that give tips under 3$\n",
      "there was/were 1075 passenger(s) that give tips between 3$ and 5$\n",
      "there was/were 637 passenger(s) that give tips above 5$\n",
      "the highest tip is 160.0\n"
     ]
    }
   ],
   "metadata": {}
  },
  {
   "cell_type": "code",
   "execution_count": null,
   "source": [
    "questionEight(dataMedium)"
   ],
   "outputs": [
    {
     "output_type": "stream",
     "name": "stdout",
     "text": [
      "Time to exec func 0.26506 sec:\n",
      "there was/were 358360 passenger(s) that do not give drive any tips\n",
      "there was/were 476575 passenger(s) that give tips under 3$\n",
      "there was/were 109347 passenger(s) that give tips between 3$ and 5$\n",
      "there was/were 65718 passenger(s) that give tips above 5$\n",
      "the highest tip is 440.25\n"
     ]
    }
   ],
   "metadata": {}
  },
  {
   "cell_type": "code",
   "execution_count": null,
   "source": [
    "questionEight(dataLarge)"
   ],
   "outputs": [
    {
     "output_type": "stream",
     "name": "stdout",
     "text": [
      "Time to exec func 7.02422 sec:\n",
      "there was/were 8726141 passenger(s) that do not give drive any tips\n",
      "there was/were 11604148 passenger(s) that give tips under 3$\n",
      "there was/were 2672374 passenger(s) that give tips between 3$ and 5$\n",
      "there was/were 1600338 passenger(s) that give tips above 5$\n",
      "the highest tip is 850.0\n"
     ]
    }
   ],
   "metadata": {}
  },
  {
   "cell_type": "markdown",
   "source": [
    "**Question 9: Code the function to find the three longest trips (longest durations) on the given day of the specific month and calculate their average velocity (m/s).**"
   ],
   "metadata": {}
  },
  {
   "cell_type": "code",
   "execution_count": null,
   "source": [
    "def questionNine(data):\r\n",
    "    timer = Timer()\r\n",
    "    m = int(input('Which month you want to choose, Feb or Mar? Input a number: '))\r\n",
    "    d = int(input('Input a day: '))\r\n",
    "    timer.start()\r\n",
    "    df3 = pd.DataFrame()\r\n",
    "    df3 = data[(data['month'] == m) & (data['day'] == d)].reset_index(drop=True)\r\n",
    "    duration = []\r\n",
    "    df3['time'] = pd.to_datetime(df3['tpep_dropoff_datetime']) - pd.to_datetime(df3['tpep_pickup_datetime'])\r\n",
    "    for i in df3['time']:\r\n",
    "        duration.append(i.seconds)\r\n",
    "    df3['duration (seconds)'] = duration\r\n",
    "    df3['average velocity (km/h)'] = round(3.6*(df3['trip_distance']*1000/df3['duration (seconds)']),3)\r\n",
    "    df3 = df3.sort_values('duration (seconds)',ascending=False).reset_index(drop=True)\r\n",
    "    print('Time to exec func %.5f sec:' % timer.stop())\r\n",
    "    print('the three logest trip are')\r\n",
    "    start = 0\r\n",
    "    for i in  df3['trip_distance']:\r\n",
    "        if i == 0.00: start += 1\r\n",
    "        else: break\r\n",
    "    result = df3[['duration (seconds)','average velocity (km/h)']][start:start+3]\r\n",
    "    return result"
   ],
   "outputs": [],
   "metadata": {}
  },
  {
   "cell_type": "code",
   "execution_count": null,
   "source": [
    "questionNine(dataSmall)"
   ],
   "outputs": [
    {
     "output_type": "stream",
     "name": "stdout",
     "text": [
      "Time to exec func 0.06822 sec:\n",
      "the three logest trip are\n"
     ]
    },
    {
     "output_type": "execute_result",
     "data": {
      "text/html": [
       "<div>\n",
       "<style scoped>\n",
       "    .dataframe tbody tr th:only-of-type {\n",
       "        vertical-align: middle;\n",
       "    }\n",
       "\n",
       "    .dataframe tbody tr th {\n",
       "        vertical-align: top;\n",
       "    }\n",
       "\n",
       "    .dataframe thead th {\n",
       "        text-align: right;\n",
       "    }\n",
       "</style>\n",
       "<table border=\"1\" class=\"dataframe\">\n",
       "  <thead>\n",
       "    <tr style=\"text-align: right;\">\n",
       "      <th></th>\n",
       "      <th>duration (seconds)</th>\n",
       "      <th>average velocity (km/h)</th>\n",
       "    </tr>\n",
       "  </thead>\n",
       "  <tbody>\n",
       "    <tr>\n",
       "      <th>0</th>\n",
       "      <td>3339</td>\n",
       "      <td>53.908</td>\n",
       "    </tr>\n",
       "    <tr>\n",
       "      <th>1</th>\n",
       "      <td>3251</td>\n",
       "      <td>19.822</td>\n",
       "    </tr>\n",
       "    <tr>\n",
       "      <th>2</th>\n",
       "      <td>2866</td>\n",
       "      <td>22.635</td>\n",
       "    </tr>\n",
       "  </tbody>\n",
       "</table>\n",
       "</div>"
      ],
      "text/plain": [
       "   duration (seconds)  average velocity (km/h)\n",
       "0                3339                   53.908\n",
       "1                3251                   19.822\n",
       "2                2866                   22.635"
      ]
     },
     "metadata": {},
     "execution_count": 32
    }
   ],
   "metadata": {}
  },
  {
   "cell_type": "code",
   "execution_count": null,
   "source": [
    "questionNine(dataMedium)"
   ],
   "outputs": [
    {
     "output_type": "stream",
     "name": "stdout",
     "text": [
      "Time to exec func 0.54504 sec:\n",
      "the three logest trip are\n"
     ]
    },
    {
     "output_type": "execute_result",
     "data": {
      "text/html": [
       "<div>\n",
       "<style scoped>\n",
       "    .dataframe tbody tr th:only-of-type {\n",
       "        vertical-align: middle;\n",
       "    }\n",
       "\n",
       "    .dataframe tbody tr th {\n",
       "        vertical-align: top;\n",
       "    }\n",
       "\n",
       "    .dataframe thead th {\n",
       "        text-align: right;\n",
       "    }\n",
       "</style>\n",
       "<table border=\"1\" class=\"dataframe\">\n",
       "  <thead>\n",
       "    <tr style=\"text-align: right;\">\n",
       "      <th></th>\n",
       "      <th>duration (seconds)</th>\n",
       "      <th>average velocity (km/h)</th>\n",
       "    </tr>\n",
       "  </thead>\n",
       "  <tbody>\n",
       "    <tr>\n",
       "      <th>0</th>\n",
       "      <td>86321</td>\n",
       "      <td>0.304</td>\n",
       "    </tr>\n",
       "    <tr>\n",
       "      <th>1</th>\n",
       "      <td>86284</td>\n",
       "      <td>0.026</td>\n",
       "    </tr>\n",
       "    <tr>\n",
       "      <th>2</th>\n",
       "      <td>86272</td>\n",
       "      <td>0.256</td>\n",
       "    </tr>\n",
       "  </tbody>\n",
       "</table>\n",
       "</div>"
      ],
      "text/plain": [
       "   duration (seconds)  average velocity (km/h)\n",
       "0               86321                    0.304\n",
       "1               86284                    0.026\n",
       "2               86272                    0.256"
      ]
     },
     "metadata": {},
     "execution_count": 33
    }
   ],
   "metadata": {}
  },
  {
   "cell_type": "code",
   "execution_count": null,
   "source": [
    "questionNine(dataLarge)"
   ],
   "outputs": [
    {
     "output_type": "stream",
     "name": "stdout",
     "text": [
      "Time to exec func 20.48018 sec:\n",
      "the three logest trip are\n"
     ]
    },
    {
     "output_type": "execute_result",
     "data": {
      "text/html": [
       "<div>\n",
       "<style scoped>\n",
       "    .dataframe tbody tr th:only-of-type {\n",
       "        vertical-align: middle;\n",
       "    }\n",
       "\n",
       "    .dataframe tbody tr th {\n",
       "        vertical-align: top;\n",
       "    }\n",
       "\n",
       "    .dataframe thead th {\n",
       "        text-align: right;\n",
       "    }\n",
       "</style>\n",
       "<table border=\"1\" class=\"dataframe\">\n",
       "  <thead>\n",
       "    <tr style=\"text-align: right;\">\n",
       "      <th></th>\n",
       "      <th>duration (seconds)</th>\n",
       "      <th>average velocity (km/h)</th>\n",
       "    </tr>\n",
       "  </thead>\n",
       "  <tbody>\n",
       "    <tr>\n",
       "      <th>0</th>\n",
       "      <td>86370</td>\n",
       "      <td>0.087</td>\n",
       "    </tr>\n",
       "    <tr>\n",
       "      <th>1</th>\n",
       "      <td>86362</td>\n",
       "      <td>0.075</td>\n",
       "    </tr>\n",
       "    <tr>\n",
       "      <th>2</th>\n",
       "      <td>86358</td>\n",
       "      <td>0.008</td>\n",
       "    </tr>\n",
       "  </tbody>\n",
       "</table>\n",
       "</div>"
      ],
      "text/plain": [
       "   duration (seconds)  average velocity (km/h)\n",
       "0               86370                    0.087\n",
       "1               86362                    0.075\n",
       "2               86358                    0.008"
      ]
     },
     "metadata": {},
     "execution_count": 34
    }
   ],
   "metadata": {}
  },
  {
   "cell_type": "markdown",
   "source": [
    "**Question 10: If the first day of the duration of this dataset (only use the dropoff time) was Monday, write a function to count number of trips on each weekday and then draw a chart to demonstrate them.**"
   ],
   "metadata": {}
  },
  {
   "cell_type": "code",
   "execution_count": null,
   "source": [
    "def questionTen(data):\r\n",
    "    timer = Timer()\r\n",
    "    timer.start()\r\n",
    "    month = [0,31,29,31,30,31,30,31,31,30,31,30,31]\r\n",
    "    subsetM = data['month'].values.tolist()\r\n",
    "    subsetD = data['day'].values.tolist()\r\n",
    "    week = ['Mon','Tue','Wed','Thu','Fri','Sat','Sun']\r\n",
    "    count = [0,0,0,0,0,0,0]\r\n",
    "    firstMonth = 2\r\n",
    "    firstDay = 1\r\n",
    "    for i in range(len(subsetM)):\r\n",
    "        if firstMonth == subsetM[i]:\r\n",
    "            days = subsetD[i] - firstDay\r\n",
    "        else:\r\n",
    "            days = 0\r\n",
    "            if subsetM[i] - firstMonth >1:\r\n",
    "                for i in range(3,subsetM[i],1):\r\n",
    "                    days += month[i]\r\n",
    "            else:\r\n",
    "                days = (28 + subsetD[i])%7\r\n",
    "        if days%7 == 0: count[0] += 1\r\n",
    "        if days%7 == 1: count[1] += 1\r\n",
    "        if days%7 == 2: count[2] += 1\r\n",
    "        if days%7 == 3: count[3] += 1\r\n",
    "        if days%7 == 4: count[4] += 1\r\n",
    "        if days%7 == 5: count[5] += 1\r\n",
    "        if days%7 == 6: count[6] += 1\r\n",
    "    df4 = pd.DataFrame()\r\n",
    "    df4['Days of the week'] = week \r\n",
    "    df4['Number of trips'] = count\r\n",
    "    plt.bar(week, count, color='green')\r\n",
    "    plt.title('The number of trips in each day of the week')\r\n",
    "    plt.xlabel('Days of the week')\r\n",
    "    plt.ylabel('Number of trips')\r\n",
    "    plt.show()\r\n",
    "    print(df4)\r\n",
    "    print('Time to exec func %.5f sec' % timer.stop())"
   ],
   "outputs": [],
   "metadata": {}
  },
  {
   "cell_type": "code",
   "execution_count": null,
   "source": [
    "questionTen(dataSmall)"
   ],
   "outputs": [
    {
     "output_type": "display_data",
     "data": {
      "image/png": "[encoded data removed]",
      "text/plain": [
       "<Figure size 432x288 with 1 Axes>"
      ]
     },
     "metadata": {
      "needs_background": "light"
     }
    },
    {
     "output_type": "stream",
     "name": "stdout",
     "text": [
      "  Days of the week  Number of trips\n",
      "0              Mon             1353\n",
      "1              Tue             1341\n",
      "2              Wed             1539\n",
      "3              Thu             1614\n",
      "4              Fri             1420\n",
      "5              Sat             1451\n",
      "6              Sun             1282\n",
      "Time to exec func 0.13203 sec\n"
     ]
    }
   ],
   "metadata": {}
  },
  {
   "cell_type": "code",
   "execution_count": null,
   "source": [
    "questionTen(dataMedium)"
   ],
   "outputs": [
    {
     "output_type": "display_data",
     "data": {
      "image/png": "[encoded data removed]",
      "text/plain": [
       "<Figure size 432x288 with 1 Axes>"
      ]
     },
     "metadata": {
      "needs_background": "light"
     }
    },
    {
     "output_type": "stream",
     "name": "stdout",
     "text": [
      "  Days of the week  Number of trips\n",
      "0              Mon           133310\n",
      "1              Tue           142545\n",
      "2              Wed           148612\n",
      "3              Thu           155643\n",
      "4              Fri           143597\n",
      "5              Sat           147555\n",
      "6              Sun           128738\n",
      "Time to exec func 0.45765 sec\n"
     ]
    }
   ],
   "metadata": {}
  },
  {
   "cell_type": "code",
   "execution_count": null,
   "source": [
    "questionTen(dataLarge)"
   ],
   "outputs": [
    {
     "output_type": "display_data",
     "data": {
      "image/png": "[encoded data removed]",
      "text/plain": [
       "<Figure size 432x288 with 1 Axes>"
      ]
     },
     "metadata": {
      "needs_background": "light"
     }
    },
    {
     "output_type": "stream",
     "name": "stdout",
     "text": [
      "  Days of the week  Number of trips\n",
      "0              Mon          3149378\n",
      "1              Tue          3360695\n",
      "2              Wed          3505083\n",
      "3              Thu          3678257\n",
      "4              Fri          3387869\n",
      "5              Sat          3480724\n",
      "6              Sun          3030995\n",
      "Time to exec func 8.05428 sec\n"
     ]
    }
   ],
   "metadata": {}
  }
 ],
 "metadata": {
  "orig_nbformat": 4,
  "language_info": {
   "name": "python",
   "version": "3.9.0",
   "mimetype": "text/x-python",
   "codemirror_mode": {
    "name": "ipython",
    "version": 3
   },
   "pygments_lexer": "ipython3",
   "nbconvert_exporter": "python",
   "file_extension": ".py"
  },
  "kernelspec": {
   "name": "python3",
   "display_name": "Python 3.9.0 64-bit"
  },
  "interpreter": {
   "hash": "8da01e5a71448ea74f54d88afa8911010d1d12e23bc7e103d40d5def4a09152c"
  }
 },
 "nbformat": 4,
 "nbformat_minor": 2
}