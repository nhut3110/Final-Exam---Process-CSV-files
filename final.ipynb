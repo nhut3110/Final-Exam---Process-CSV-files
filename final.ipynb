{
 "cells": [
  {
   "cell_type": "markdown",
   "source": [
    "Question 1:"
   ],
   "metadata": {}
  },
  {
   "cell_type": "code",
   "execution_count": 4,
   "source": [
    "import pandas as pd\r\n",
    "import matplotlib.pyplot as plt\r\n",
    "import seaborn as sns\r\n",
    "import datetime\r\n",
    "import time\r\n",
    "import glob\r\n",
    "import os\r\n",
    "import statistics\r\n",
    "import numpy\r\n",
    "from numpy import median"
   ],
   "outputs": [],
   "metadata": {}
  },
  {
   "cell_type": "markdown",
   "source": [
    "Question 2:"
   ],
   "metadata": {}
  },
  {
   "cell_type": "code",
   "execution_count": 5,
   "source": [
    "import time\r\n",
    "class Timer(object):\r\n",
    "    def __init__(self):\r\n",
    "        self.times = []\r\n",
    "        self.start()\r\n",
    "\r\n",
    "    def start(self):\r\n",
    "        self.start_time = time.time()\r\n",
    "\r\n",
    "    def stop(self):\r\n",
    "        self.times.append(time.time() - self.start_time)\r\n",
    "        return self.times[-1]"
   ],
   "outputs": [],
   "metadata": {}
  },
  {
   "cell_type": "markdown",
   "source": [
    "Question 3:"
   ],
   "metadata": {}
  },
  {
   "cell_type": "code",
   "execution_count": 6,
   "source": [
    "timer = Timer()\r\n",
    "timer.start()\r\n",
    "dataLarge = pd.read_csv(\"data_large.csv\")\r\n",
    "dataMedium = pd.read_csv(\"data_medium.csv\")\r\n",
    "dataSmall = pd.read_csv(\"data_small.csv\")\r\n",
    "print('Time to read 3 files is %.5f sec' % timer.stop())"
   ],
   "outputs": [
    {
     "output_type": "stream",
     "name": "stdout",
     "text": [
      "Time to read 3 files is 85.53177 sec\n"
     ]
    }
   ],
   "metadata": {}
  },
  {
   "cell_type": "code",
   "execution_count": 7,
   "source": [
    "dataLarge.head(5)"
   ],
   "outputs": [
    {
     "output_type": "execute_result",
     "data": {
      "text/html": [
       "<div>\n",
       "<style scoped>\n",
       "    .dataframe tbody tr th:only-of-type {\n",
       "        vertical-align: middle;\n",
       "    }\n",
       "\n",
       "    .dataframe tbody tr th {\n",
       "        vertical-align: top;\n",
       "    }\n",
       "\n",
       "    .dataframe thead th {\n",
       "        text-align: right;\n",
       "    }\n",
       "</style>\n",
       "<table border=\"1\" class=\"dataframe\">\n",
       "  <thead>\n",
       "    <tr style=\"text-align: right;\">\n",
       "      <th></th>\n",
       "      <th>VendorID</th>\n",
       "      <th>tpep_pickup_datetime</th>\n",
       "      <th>tpep_dropoff_datetime</th>\n",
       "      <th>passenger_count</th>\n",
       "      <th>trip_distance</th>\n",
       "      <th>payment_type</th>\n",
       "      <th>fare_amount</th>\n",
       "      <th>extra</th>\n",
       "      <th>mta_tax</th>\n",
       "      <th>tip_amount</th>\n",
       "      <th>tolls_amount</th>\n",
       "      <th>improvement_surcharge</th>\n",
       "      <th>total_amount</th>\n",
       "    </tr>\n",
       "  </thead>\n",
       "  <tbody>\n",
       "    <tr>\n",
       "      <th>0</th>\n",
       "      <td>2</td>\n",
       "      <td>2016-02-25 17:24:20</td>\n",
       "      <td>2016-02-25 17:27:20</td>\n",
       "      <td>2</td>\n",
       "      <td>0.70</td>\n",
       "      <td>2</td>\n",
       "      <td>5.0</td>\n",
       "      <td>0.0</td>\n",
       "      <td>0.5</td>\n",
       "      <td>0.0</td>\n",
       "      <td>0.0</td>\n",
       "      <td>0.3</td>\n",
       "      <td>5.8</td>\n",
       "    </tr>\n",
       "    <tr>\n",
       "      <th>1</th>\n",
       "      <td>2</td>\n",
       "      <td>2016-02-25 23:10:50</td>\n",
       "      <td>2016-02-25 23:31:50</td>\n",
       "      <td>2</td>\n",
       "      <td>5.52</td>\n",
       "      <td>2</td>\n",
       "      <td>20.0</td>\n",
       "      <td>0.5</td>\n",
       "      <td>0.5</td>\n",
       "      <td>0.0</td>\n",
       "      <td>0.0</td>\n",
       "      <td>0.3</td>\n",
       "      <td>21.3</td>\n",
       "    </tr>\n",
       "    <tr>\n",
       "      <th>2</th>\n",
       "      <td>2</td>\n",
       "      <td>2016-02-01 00:00:01</td>\n",
       "      <td>2016-02-01 00:10:52</td>\n",
       "      <td>6</td>\n",
       "      <td>1.99</td>\n",
       "      <td>1</td>\n",
       "      <td>9.5</td>\n",
       "      <td>0.5</td>\n",
       "      <td>0.5</td>\n",
       "      <td>0.7</td>\n",
       "      <td>0.0</td>\n",
       "      <td>0.3</td>\n",
       "      <td>11.5</td>\n",
       "    </tr>\n",
       "    <tr>\n",
       "      <th>3</th>\n",
       "      <td>1</td>\n",
       "      <td>2016-02-01 00:00:04</td>\n",
       "      <td>2016-02-01 00:05:16</td>\n",
       "      <td>1</td>\n",
       "      <td>1.50</td>\n",
       "      <td>2</td>\n",
       "      <td>6.5</td>\n",
       "      <td>0.5</td>\n",
       "      <td>0.5</td>\n",
       "      <td>0.0</td>\n",
       "      <td>0.0</td>\n",
       "      <td>0.3</td>\n",
       "      <td>7.8</td>\n",
       "    </tr>\n",
       "    <tr>\n",
       "      <th>4</th>\n",
       "      <td>2</td>\n",
       "      <td>2016-02-01 00:00:05</td>\n",
       "      <td>2016-02-01 00:20:59</td>\n",
       "      <td>1</td>\n",
       "      <td>5.60</td>\n",
       "      <td>1</td>\n",
       "      <td>20.0</td>\n",
       "      <td>0.5</td>\n",
       "      <td>0.5</td>\n",
       "      <td>4.0</td>\n",
       "      <td>0.0</td>\n",
       "      <td>0.3</td>\n",
       "      <td>25.3</td>\n",
       "    </tr>\n",
       "  </tbody>\n",
       "</table>\n",
       "</div>"
      ],
      "text/plain": [
       "   VendorID tpep_pickup_datetime tpep_dropoff_datetime  passenger_count  \\\n",
       "0         2  2016-02-25 17:24:20   2016-02-25 17:27:20                2   \n",
       "1         2  2016-02-25 23:10:50   2016-02-25 23:31:50                2   \n",
       "2         2  2016-02-01 00:00:01   2016-02-01 00:10:52                6   \n",
       "3         1  2016-02-01 00:00:04   2016-02-01 00:05:16                1   \n",
       "4         2  2016-02-01 00:00:05   2016-02-01 00:20:59                1   \n",
       "\n",
       "   trip_distance  payment_type  fare_amount  extra  mta_tax  tip_amount  \\\n",
       "0           0.70             2          5.0    0.0      0.5         0.0   \n",
       "1           5.52             2         20.0    0.5      0.5         0.0   \n",
       "2           1.99             1          9.5    0.5      0.5         0.7   \n",
       "3           1.50             2          6.5    0.5      0.5         0.0   \n",
       "4           5.60             1         20.0    0.5      0.5         4.0   \n",
       "\n",
       "   tolls_amount  improvement_surcharge  total_amount  \n",
       "0           0.0                    0.3           5.8  \n",
       "1           0.0                    0.3          21.3  \n",
       "2           0.0                    0.3          11.5  \n",
       "3           0.0                    0.3           7.8  \n",
       "4           0.0                    0.3          25.3  "
      ]
     },
     "metadata": {},
     "execution_count": 7
    }
   ],
   "metadata": {}
  },
  {
   "cell_type": "code",
   "execution_count": 8,
   "source": [
    "dataMedium.head(5)"
   ],
   "outputs": [
    {
     "output_type": "execute_result",
     "data": {
      "text/html": [
       "<div>\n",
       "<style scoped>\n",
       "    .dataframe tbody tr th:only-of-type {\n",
       "        vertical-align: middle;\n",
       "    }\n",
       "\n",
       "    .dataframe tbody tr th {\n",
       "        vertical-align: top;\n",
       "    }\n",
       "\n",
       "    .dataframe thead th {\n",
       "        text-align: right;\n",
       "    }\n",
       "</style>\n",
       "<table border=\"1\" class=\"dataframe\">\n",
       "  <thead>\n",
       "    <tr style=\"text-align: right;\">\n",
       "      <th></th>\n",
       "      <th>VendorID</th>\n",
       "      <th>tpep_pickup_datetime</th>\n",
       "      <th>tpep_dropoff_datetime</th>\n",
       "      <th>passenger_count</th>\n",
       "      <th>trip_distance</th>\n",
       "      <th>payment_type</th>\n",
       "      <th>fare_amount</th>\n",
       "      <th>extra</th>\n",
       "      <th>mta_tax</th>\n",
       "      <th>tip_amount</th>\n",
       "      <th>tolls_amount</th>\n",
       "      <th>improvement_surcharge</th>\n",
       "      <th>total_amount</th>\n",
       "    </tr>\n",
       "  </thead>\n",
       "  <tbody>\n",
       "    <tr>\n",
       "      <th>0</th>\n",
       "      <td>2</td>\n",
       "      <td>2016-02-18 08:57:09</td>\n",
       "      <td>2016-02-18 09:11:37</td>\n",
       "      <td>1</td>\n",
       "      <td>1.95</td>\n",
       "      <td>1</td>\n",
       "      <td>11.5</td>\n",
       "      <td>0.0</td>\n",
       "      <td>0.5</td>\n",
       "      <td>2.46</td>\n",
       "      <td>0.0</td>\n",
       "      <td>0.3</td>\n",
       "      <td>14.76</td>\n",
       "    </tr>\n",
       "    <tr>\n",
       "      <th>1</th>\n",
       "      <td>1</td>\n",
       "      <td>2016-03-10 14:12:32</td>\n",
       "      <td>2016-03-10 14:16:26</td>\n",
       "      <td>1</td>\n",
       "      <td>0.60</td>\n",
       "      <td>2</td>\n",
       "      <td>4.5</td>\n",
       "      <td>0.0</td>\n",
       "      <td>0.5</td>\n",
       "      <td>0.00</td>\n",
       "      <td>0.0</td>\n",
       "      <td>0.3</td>\n",
       "      <td>5.30</td>\n",
       "    </tr>\n",
       "    <tr>\n",
       "      <th>2</th>\n",
       "      <td>1</td>\n",
       "      <td>2016-02-06 06:48:40</td>\n",
       "      <td>2016-02-06 06:58:14</td>\n",
       "      <td>1</td>\n",
       "      <td>3.00</td>\n",
       "      <td>2</td>\n",
       "      <td>11.0</td>\n",
       "      <td>0.0</td>\n",
       "      <td>0.5</td>\n",
       "      <td>0.00</td>\n",
       "      <td>0.0</td>\n",
       "      <td>0.3</td>\n",
       "      <td>11.80</td>\n",
       "    </tr>\n",
       "    <tr>\n",
       "      <th>3</th>\n",
       "      <td>2</td>\n",
       "      <td>2016-03-10 16:31:22</td>\n",
       "      <td>2016-03-10 16:41:44</td>\n",
       "      <td>4</td>\n",
       "      <td>1.25</td>\n",
       "      <td>2</td>\n",
       "      <td>8.0</td>\n",
       "      <td>1.0</td>\n",
       "      <td>0.5</td>\n",
       "      <td>0.00</td>\n",
       "      <td>0.0</td>\n",
       "      <td>0.3</td>\n",
       "      <td>9.80</td>\n",
       "    </tr>\n",
       "    <tr>\n",
       "      <th>4</th>\n",
       "      <td>2</td>\n",
       "      <td>2016-03-01 20:58:57</td>\n",
       "      <td>2016-03-01 21:04:09</td>\n",
       "      <td>1</td>\n",
       "      <td>1.49</td>\n",
       "      <td>2</td>\n",
       "      <td>6.5</td>\n",
       "      <td>0.5</td>\n",
       "      <td>0.5</td>\n",
       "      <td>0.00</td>\n",
       "      <td>0.0</td>\n",
       "      <td>0.3</td>\n",
       "      <td>7.80</td>\n",
       "    </tr>\n",
       "  </tbody>\n",
       "</table>\n",
       "</div>"
      ],
      "text/plain": [
       "   VendorID tpep_pickup_datetime tpep_dropoff_datetime  passenger_count  \\\n",
       "0         2  2016-02-18 08:57:09   2016-02-18 09:11:37                1   \n",
       "1         1  2016-03-10 14:12:32   2016-03-10 14:16:26                1   \n",
       "2         1  2016-02-06 06:48:40   2016-02-06 06:58:14                1   \n",
       "3         2  2016-03-10 16:31:22   2016-03-10 16:41:44                4   \n",
       "4         2  2016-03-01 20:58:57   2016-03-01 21:04:09                1   \n",
       "\n",
       "   trip_distance  payment_type  fare_amount  extra  mta_tax  tip_amount  \\\n",
       "0           1.95             1         11.5    0.0      0.5        2.46   \n",
       "1           0.60             2          4.5    0.0      0.5        0.00   \n",
       "2           3.00             2         11.0    0.0      0.5        0.00   \n",
       "3           1.25             2          8.0    1.0      0.5        0.00   \n",
       "4           1.49             2          6.5    0.5      0.5        0.00   \n",
       "\n",
       "   tolls_amount  improvement_surcharge  total_amount  \n",
       "0           0.0                    0.3         14.76  \n",
       "1           0.0                    0.3          5.30  \n",
       "2           0.0                    0.3         11.80  \n",
       "3           0.0                    0.3          9.80  \n",
       "4           0.0                    0.3          7.80  "
      ]
     },
     "metadata": {},
     "execution_count": 8
    }
   ],
   "metadata": {}
  },
  {
   "cell_type": "code",
   "execution_count": 9,
   "source": [
    "dataSmall.head(5)"
   ],
   "outputs": [
    {
     "output_type": "execute_result",
     "data": {
      "text/html": [
       "<div>\n",
       "<style scoped>\n",
       "    .dataframe tbody tr th:only-of-type {\n",
       "        vertical-align: middle;\n",
       "    }\n",
       "\n",
       "    .dataframe tbody tr th {\n",
       "        vertical-align: top;\n",
       "    }\n",
       "\n",
       "    .dataframe thead th {\n",
       "        text-align: right;\n",
       "    }\n",
       "</style>\n",
       "<table border=\"1\" class=\"dataframe\">\n",
       "  <thead>\n",
       "    <tr style=\"text-align: right;\">\n",
       "      <th></th>\n",
       "      <th>VendorID</th>\n",
       "      <th>tpep_pickup_datetime</th>\n",
       "      <th>tpep_dropoff_datetime</th>\n",
       "      <th>passenger_count</th>\n",
       "      <th>trip_distance</th>\n",
       "      <th>payment_type</th>\n",
       "      <th>fare_amount</th>\n",
       "      <th>extra</th>\n",
       "      <th>mta_tax</th>\n",
       "      <th>tip_amount</th>\n",
       "      <th>tolls_amount</th>\n",
       "      <th>improvement_surcharge</th>\n",
       "      <th>total_amount</th>\n",
       "    </tr>\n",
       "  </thead>\n",
       "  <tbody>\n",
       "    <tr>\n",
       "      <th>0</th>\n",
       "      <td>2</td>\n",
       "      <td>2016-03-29 07:54:27</td>\n",
       "      <td>2016-03-29 08:01:58</td>\n",
       "      <td>2</td>\n",
       "      <td>1.31</td>\n",
       "      <td>1</td>\n",
       "      <td>7.0</td>\n",
       "      <td>0.0</td>\n",
       "      <td>0.5</td>\n",
       "      <td>1.56</td>\n",
       "      <td>0.0</td>\n",
       "      <td>0.3</td>\n",
       "      <td>9.36</td>\n",
       "    </tr>\n",
       "    <tr>\n",
       "      <th>1</th>\n",
       "      <td>2</td>\n",
       "      <td>2016-02-18 10:33:03</td>\n",
       "      <td>2016-02-18 10:37:17</td>\n",
       "      <td>1</td>\n",
       "      <td>0.97</td>\n",
       "      <td>1</td>\n",
       "      <td>5.5</td>\n",
       "      <td>0.0</td>\n",
       "      <td>0.5</td>\n",
       "      <td>1.26</td>\n",
       "      <td>0.0</td>\n",
       "      <td>0.3</td>\n",
       "      <td>7.56</td>\n",
       "    </tr>\n",
       "    <tr>\n",
       "      <th>2</th>\n",
       "      <td>1</td>\n",
       "      <td>2016-03-17 11:30:47</td>\n",
       "      <td>2016-03-17 11:46:40</td>\n",
       "      <td>1</td>\n",
       "      <td>2.10</td>\n",
       "      <td>2</td>\n",
       "      <td>11.5</td>\n",
       "      <td>0.0</td>\n",
       "      <td>0.5</td>\n",
       "      <td>0.00</td>\n",
       "      <td>0.0</td>\n",
       "      <td>0.3</td>\n",
       "      <td>12.30</td>\n",
       "    </tr>\n",
       "    <tr>\n",
       "      <th>3</th>\n",
       "      <td>1</td>\n",
       "      <td>2016-03-26 19:49:01</td>\n",
       "      <td>2016-03-26 20:01:30</td>\n",
       "      <td>4</td>\n",
       "      <td>1.60</td>\n",
       "      <td>2</td>\n",
       "      <td>9.0</td>\n",
       "      <td>0.5</td>\n",
       "      <td>0.5</td>\n",
       "      <td>0.00</td>\n",
       "      <td>0.0</td>\n",
       "      <td>0.3</td>\n",
       "      <td>10.30</td>\n",
       "    </tr>\n",
       "    <tr>\n",
       "      <th>4</th>\n",
       "      <td>1</td>\n",
       "      <td>2016-02-12 21:42:23</td>\n",
       "      <td>2016-02-12 21:48:37</td>\n",
       "      <td>1</td>\n",
       "      <td>1.10</td>\n",
       "      <td>2</td>\n",
       "      <td>6.0</td>\n",
       "      <td>0.5</td>\n",
       "      <td>0.5</td>\n",
       "      <td>0.00</td>\n",
       "      <td>0.0</td>\n",
       "      <td>0.3</td>\n",
       "      <td>7.30</td>\n",
       "    </tr>\n",
       "  </tbody>\n",
       "</table>\n",
       "</div>"
      ],
      "text/plain": [
       "   VendorID tpep_pickup_datetime tpep_dropoff_datetime  passenger_count  \\\n",
       "0         2  2016-03-29 07:54:27   2016-03-29 08:01:58                2   \n",
       "1         2  2016-02-18 10:33:03   2016-02-18 10:37:17                1   \n",
       "2         1  2016-03-17 11:30:47   2016-03-17 11:46:40                1   \n",
       "3         1  2016-03-26 19:49:01   2016-03-26 20:01:30                4   \n",
       "4         1  2016-02-12 21:42:23   2016-02-12 21:48:37                1   \n",
       "\n",
       "   trip_distance  payment_type  fare_amount  extra  mta_tax  tip_amount  \\\n",
       "0           1.31             1          7.0    0.0      0.5        1.56   \n",
       "1           0.97             1          5.5    0.0      0.5        1.26   \n",
       "2           2.10             2         11.5    0.0      0.5        0.00   \n",
       "3           1.60             2          9.0    0.5      0.5        0.00   \n",
       "4           1.10             2          6.0    0.5      0.5        0.00   \n",
       "\n",
       "   tolls_amount  improvement_surcharge  total_amount  \n",
       "0           0.0                    0.3          9.36  \n",
       "1           0.0                    0.3          7.56  \n",
       "2           0.0                    0.3         12.30  \n",
       "3           0.0                    0.3         10.30  \n",
       "4           0.0                    0.3          7.30  "
      ]
     },
     "metadata": {},
     "execution_count": 9
    }
   ],
   "metadata": {}
  },
  {
   "cell_type": "markdown",
   "source": [
    "Question 4:"
   ],
   "metadata": {}
  },
  {
   "cell_type": "code",
   "execution_count": 10,
   "source": [
    "def questionFour(data):\r\n",
    "    timer = Timer()\r\n",
    "    timer.start()\r\n",
    "    temp = data['payment_type'].values.tolist()\r\n",
    "    paymentType = set(temp)\r\n",
    "    #print(paymentType)\r\n",
    "    count = 0\r\n",
    "    result = []\r\n",
    "    for i in paymentType:\r\n",
    "        for j in temp:\r\n",
    "            if i == j:\r\n",
    "                count += 1\r\n",
    "        result.append(count)\r\n",
    "        count = 0\r\n",
    "    paymentType = list(paymentType)\r\n",
    "    print('Time to exec func %.5f sec:' % timer.stop())\r\n",
    "    for i in range(len(paymentType)):\r\n",
    "        print('there was/were',result[i],'passenger choosing the',paymentType[i],'payment method')\r\n",
    "    "
   ],
   "outputs": [],
   "metadata": {}
  },
  {
   "cell_type": "code",
   "execution_count": 11,
   "source": [
    "questionFour(dataSmall)"
   ],
   "outputs": [
    {
     "output_type": "stream",
     "name": "stdout",
     "text": [
      "Time to exec func 0.00099 sec:\n",
      "there was/were 6718 passenger choosing the 1 payment method\n",
      "there was/were 3235 passenger choosing the 2 payment method\n",
      "there was/were 32 passenger choosing the 3 payment method\n",
      "there was/were 15 passenger choosing the 4 payment method\n"
     ]
    }
   ],
   "metadata": {}
  },
  {
   "cell_type": "code",
   "execution_count": 12,
   "source": [
    "questionFour(dataMedium)"
   ],
   "outputs": [
    {
     "output_type": "stream",
     "name": "stdout",
     "text": [
      "Time to exec func 0.09804 sec:\n",
      "there was/were 669824 passenger choosing the 1 payment method\n",
      "there was/were 325150 passenger choosing the 2 payment method\n",
      "there was/were 3654 passenger choosing the 3 payment method\n",
      "there was/were 1372 passenger choosing the 4 payment method\n"
     ]
    }
   ],
   "metadata": {}
  },
  {
   "cell_type": "code",
   "execution_count": 13,
   "source": [
    "questionFour(dataLarge)"
   ],
   "outputs": [
    {
     "output_type": "stream",
     "name": "stdout",
     "text": [
      "Time to exec func 2.25279 sec:\n",
      "there was/were 15807750 passenger choosing the 1 payment method\n",
      "there was/were 7667443 passenger choosing the 2 payment method\n",
      "there was/were 87187 passenger choosing the 3 payment method\n",
      "there was/were 30621 passenger choosing the 4 payment method\n"
     ]
    }
   ],
   "metadata": {}
  },
  {
   "cell_type": "markdown",
   "source": [
    "Question 5:"
   ],
   "metadata": {}
  },
  {
   "cell_type": "code",
   "execution_count": 14,
   "source": [
    "timer = Timer()\r\n",
    "timer.start()\r\n",
    "def get_date_info(df):\r\n",
    "    df['year'] = df['tpep_dropoff_datetime'].dt.year\r\n",
    "    df['month'] = df['tpep_dropoff_datetime'].dt.month\r\n",
    "    df['day'] = df['tpep_dropoff_datetime'].dt.day\r\n",
    "    #df['hour'] = df['tpep_dropoff_datetime'].dt.hour\r\n",
    "    df['time'] = df['tpep_dropoff_datetime'].dt.time\r\n",
    "    return(df)\r\n",
    "\r\n",
    "dataSmall['tpep_dropoff_datetime'] = pd.to_datetime(dataSmall['tpep_dropoff_datetime'])\r\n",
    "dataSmall = get_date_info(dataSmall)\r\n",
    "\r\n",
    "dataMedium['tpep_dropoff_datetime'] = pd.to_datetime(dataMedium['tpep_dropoff_datetime'])\r\n",
    "dataMedium = get_date_info(dataMedium)\r\n",
    "\r\n",
    "dataLarge['tpep_dropoff_datetime'] = pd.to_datetime(dataLarge['tpep_dropoff_datetime'])\r\n",
    "dataLarge = get_date_info(dataLarge)\r\n",
    "\r\n",
    "print('Time to create new time columns %.5f sec' % timer.stop())"
   ],
   "outputs": [
    {
     "output_type": "stream",
     "name": "stdout",
     "text": [
      "Time to create new time columns 23.52836 sec\n"
     ]
    }
   ],
   "metadata": {}
  },
  {
   "cell_type": "code",
   "execution_count": 15,
   "source": [
    "def subsetDayAndMonth(d,m,data):\r\n",
    "    df = pd.DataFrame()\r\n",
    "    df['cost'] = data['total_amount'][(data['month'] == m) & (data['day'] == d)]\r\n",
    "    return df"
   ],
   "outputs": [],
   "metadata": {}
  },
  {
   "cell_type": "code",
   "execution_count": 16,
   "source": [
    "def questionFive(data):\r\n",
    "    timer = Timer()\r\n",
    "    m = int(input('Which month you want to choose, Feb or Mar? Input a number: '))\r\n",
    "    d = int(input('Input a day: '))\r\n",
    "    timer.start()\r\n",
    "    df1 = subsetDayAndMonth(d,m,data).reset_index(drop=True, inplace=False)\r\n",
    "    costList = df1['cost'].values.tolist()\r\n",
    "    minCost = costList[0]\r\n",
    "    maxCost = costList[0]\r\n",
    "    meanCost = 0\r\n",
    "    for i in costList:\r\n",
    "        if (minCost > i): minCost = i\r\n",
    "        if (maxCost < i): maxCost = i\r\n",
    "        meanCost += i \r\n",
    "    meanCost = meanCost/len(costList)\r\n",
    "    givenDate = str(d)+'/'+str(m)+':'\r\n",
    "    print('Time to exec func %.5f sec:' % timer.stop())\r\n",
    "    print('On the day',givenDate)\r\n",
    "    print('     - the min cost is',minCost)\r\n",
    "    print('     - the mean cost is',meanCost)\r\n",
    "    print('     - the max cost is',maxCost)\r\n",
    "        "
   ],
   "outputs": [],
   "metadata": {}
  },
  {
   "cell_type": "code",
   "execution_count": 17,
   "source": [
    "questionFive(dataSmall)"
   ],
   "outputs": [
    {
     "output_type": "stream",
     "name": "stdout",
     "text": [
      "Time to exec func 0.00700 sec:\n",
      "On the day 3/2:\n",
      "     - the min cost is 3.3\n",
      "     - the mean cost is 16.03298850574714\n",
      "     - the max cost is 115.65\n"
     ]
    }
   ],
   "metadata": {}
  },
  {
   "cell_type": "code",
   "execution_count": 18,
   "source": [
    "questionFive(dataMedium)"
   ],
   "outputs": [
    {
     "output_type": "stream",
     "name": "stdout",
     "text": [
      "Time to exec func 0.01601 sec:\n",
      "On the day 3/2:\n",
      "     - the min cost is -49.64\n",
      "     - the mean cost is 15.629380738299478\n",
      "     - the max cost is 200.3\n"
     ]
    }
   ],
   "metadata": {}
  },
  {
   "cell_type": "code",
   "execution_count": 19,
   "source": [
    "questionFive(dataLarge)"
   ],
   "outputs": [
    {
     "output_type": "stream",
     "name": "stdout",
     "text": [
      "Time to exec func 0.22789 sec:\n",
      "On the day 3/2:\n",
      "     - the min cost is -57.3\n",
      "     - the mean cost is 15.644488167956583\n",
      "     - the max cost is 1345.18\n"
     ]
    }
   ],
   "metadata": {}
  },
  {
   "cell_type": "markdown",
   "source": [
    "Question 6:"
   ],
   "metadata": {}
  },
  {
   "cell_type": "code",
   "execution_count": 20,
   "source": [
    "midnight_bg = datetime.time(23,0,0)\r\n",
    "midnight_end = datetime.time(1,0,0) "
   ],
   "outputs": [],
   "metadata": {}
  },
  {
   "cell_type": "code",
   "execution_count": 21,
   "source": [
    "def questionSix(data):\r\n",
    "    timer = Timer()\r\n",
    "    m = int(input('Which month you want to choose, Feb or Mar? Input a number: '))\r\n",
    "    d = int(input('Input a day: '))\r\n",
    "    timer.start()\r\n",
    "    subset = pd.DataFrame()\r\n",
    "    subset['time'] = data['time'][(data['month'] == m) & (data['day'] == d) & ((data['time'] <= midnight_end) | (data['time'] >= midnight_bg))]\r\n",
    "    date = str(d)+'/'+str(m)\r\n",
    "    print('Time to exec func %.5f sec:' % timer.stop())\r\n",
    "    print('there was/were',len(subset['time']),'trip(s) that drop off at midnight on',date)"
   ],
   "outputs": [],
   "metadata": {}
  },
  {
   "cell_type": "code",
   "execution_count": 37,
   "source": [
    "questionSix(dataSmall)"
   ],
   "outputs": [
    {
     "output_type": "stream",
     "name": "stdout",
     "text": [
      "Time to exec func 0.00900 sec:\n",
      "there was/were 9 trip(s) that drop off at midnight on 3/2\n"
     ]
    }
   ],
   "metadata": {}
  },
  {
   "cell_type": "code",
   "execution_count": 38,
   "source": [
    "questionSix(dataMedium)"
   ],
   "outputs": [
    {
     "output_type": "stream",
     "name": "stdout",
     "text": [
      "Time to exec func 0.17504 sec:\n",
      "there was/were 1164 trip(s) that drop off at midnight on 3/2\n"
     ]
    }
   ],
   "metadata": {}
  },
  {
   "cell_type": "code",
   "execution_count": 39,
   "source": [
    "questionSix(dataLarge)"
   ],
   "outputs": [
    {
     "output_type": "stream",
     "name": "stdout",
     "text": [
      "Time to exec func 2.23983 sec:\n",
      "there was/were 26195 trip(s) that drop off at midnight on 3/2\n"
     ]
    }
   ],
   "metadata": {}
  },
  {
   "cell_type": "markdown",
   "source": [
    "Question 7:"
   ],
   "metadata": {}
  },
  {
   "cell_type": "code",
   "execution_count": 23,
   "source": [
    "def quick_sort(array, start, end):\r\n",
    "    if (start <= end):\r\n",
    "        key = array[(start+end)//2]\r\n",
    "        i = start \r\n",
    "        j = end\r\n",
    "        while (i<=j):\r\n",
    "            while (array[i] < key): i+=1\r\n",
    "            while (array[j] > key): j-=1\r\n",
    "            if (i<=j):  \r\n",
    "                array[i],array[j] = array[j],array[i]\r\n",
    "                i+=1\r\n",
    "                j-=1\r\n",
    "        if (start < j): quick_sort(array,start,j)\r\n",
    "        if (end > i): quick_sort(array,i,end)"
   ],
   "outputs": [],
   "metadata": {}
  },
  {
   "cell_type": "code",
   "execution_count": 24,
   "source": [
    "def questionSeven(data):\r\n",
    "    timer = Timer()\r\n",
    "    m = int(input('Which month you want to choose, Feb or Mar? Input a number: '))\r\n",
    "    d = int(input('Input a day: '))\r\n",
    "    timer.start()\r\n",
    "    newArray = data['fare_amount'][(data['month'] == m) & (data['day'] == d)].values.tolist()\r\n",
    "    quick_sort(newArray,0,len(newArray)-1)\r\n",
    "    neg = []\r\n",
    "    for i in newArray:\r\n",
    "        if i < 0:\r\n",
    "            neg.append(i)\r\n",
    "        else:\r\n",
    "            break\r\n",
    "    count = 0\r\n",
    "    for i in newArray:\r\n",
    "        if i < 10: \r\n",
    "            count += 1\r\n",
    "    print('Time to exec func %.5f sec:' % timer.stop())\r\n",
    "    print('the negative amount payment is/ are',neg)\r\n",
    "    print('The was/were',count,'/',len(newArray),'value(s) under 10$')"
   ],
   "outputs": [],
   "metadata": {}
  },
  {
   "cell_type": "code",
   "execution_count": 25,
   "source": [
    "questionSeven(dataSmall)"
   ],
   "outputs": [
    {
     "output_type": "stream",
     "name": "stdout",
     "text": [
      "Time to exec func 0.00100 sec:\n",
      "the negative amount payment is/ are []\n",
      "The was/were 92 / 174 value(s) under 10$\n"
     ]
    }
   ],
   "metadata": {}
  },
  {
   "cell_type": "code",
   "execution_count": 26,
   "source": [
    "questionSeven(dataMedium)"
   ],
   "outputs": [
    {
     "output_type": "stream",
     "name": "stdout",
     "text": [
      "Time to exec func 0.03002 sec:\n",
      "the negative amount payment is/ are [-49.34, -8.5, -4.0, -3.5, -3.5, -2.5, -2.5, -2.5, -2.5, -2.5, -2.5]\n",
      "The was/were 8367 / 15793 value(s) under 10$\n"
     ]
    }
   ],
   "metadata": {}
  },
  {
   "cell_type": "code",
   "execution_count": 27,
   "source": [
    "questionSeven(dataLarge)"
   ],
   "outputs": [
    {
     "output_type": "stream",
     "name": "stdout",
     "text": [
      "Time to exec func 0.85386 sec:\n",
      "the negative amount payment is/ are [-52.0, -52.0, -52.0, -52.0, -52.0, -52.0, -52.0, -52.0, -52.0, -52.0, -52.0, -52.0, -52.0, -49.34, -22.0, -20.0, -17.5, -15.5, -8.5, -7.0, -6.0, -6.0, -6.0, -6.0, -6.0, -5.5, -5.5, -5.5, -5.0, -5.0, -5.0, -5.0, -5.0, -5.0, -5.0, -5.0, -5.0, -4.5, -4.5, -4.5, -4.5, -4.5, -4.5, -4.5, -4.5, -4.5, -4.5, -4.5, -4.5, -4.5, -4.0, -4.0, -4.0, -4.0, -4.0, -4.0, -4.0, -4.0, -4.0, -4.0, -3.5, -3.5, -3.5, -3.5, -3.5, -3.5, -3.5, -3.5, -3.5, -3.5, -3.5, -3.5, -3.5, -3.5, -3.0, -3.0, -3.0, -3.0, -3.0, -3.0, -3.0, -3.0, -3.0, -3.0, -3.0, -3.0, -3.0, -3.0, -3.0, -3.0, -3.0, -2.5, -2.5, -2.5, -2.5, -2.5, -2.5, -2.5, -2.5, -2.5, -2.5, -2.5, -2.5, -2.5, -2.5, -2.5, -2.5, -2.5, -2.5, -2.5, -2.5, -2.5, -2.5, -2.5, -2.5, -2.5, -2.5, -2.5, -2.5, -2.5, -2.5, -2.5, -2.5, -2.5, -2.5, -2.5, -2.5, -2.5, -2.5, -2.5, -2.5, -2.5, -2.5, -2.5, -2.5, -2.5, -2.5, -2.5, -2.5, -2.5, -2.5, -2.5, -2.0]\n",
      "The was/were 198066 / 371831 value(s) under 10$\n"
     ]
    }
   ],
   "metadata": {}
  },
  {
   "cell_type": "markdown",
   "source": [
    "Question 8:"
   ],
   "metadata": {}
  },
  {
   "cell_type": "code",
   "execution_count": 28,
   "source": [
    "tipLevels = {'no tips':0,'under 3$':0, 'bw 3$ and 5$':0,'above 5$':0}\r\n",
    "def questionEight(data):\r\n",
    "    timer = Timer()\r\n",
    "    timer.start()\r\n",
    "    tips = data['tip_amount'].values.tolist()\r\n",
    "    maxTip = tips[0]\r\n",
    "    for i in tips:\r\n",
    "        if i == 0:\r\n",
    "            tipLevels['no tips'] +=1\r\n",
    "        else:\r\n",
    "            if i < 3: tipLevels['under 3$'] += 1\r\n",
    "            if 3 <= i <= 5: tipLevels['bw 3$ and 5$'] += 1\r\n",
    "            if i > 5: tipLevels['above 5$'] += 1\r\n",
    "        if maxTip < i:\r\n",
    "            maxTip = i\r\n",
    "    print('Time to exec func %.5f sec:' % timer.stop())\r\n",
    "    print('there was/were',tipLevels['no tips'],'passenger(s) that do not give drive any tips')\r\n",
    "    print('there was/were',tipLevels['under 3$'],'passenger(s) that give tips under 3$')\r\n",
    "    print('there was/were',tipLevels['bw 3$ and 5$'],'passenger(s) that give tips between 3$ and 5$')\r\n",
    "    print('there was/were',tipLevels['above 5$'],'passenger(s) that give tips above 5$')\r\n",
    "    print('the highest tip is',maxTip)"
   ],
   "outputs": [],
   "metadata": {}
  },
  {
   "cell_type": "code",
   "execution_count": 29,
   "source": [
    "questionEight(dataSmall)"
   ],
   "outputs": [
    {
     "output_type": "stream",
     "name": "stdout",
     "text": [
      "Time to exec func 0.00301 sec:\n",
      "there was/were 3534 passenger(s) that do not give drive any tips\n",
      "there was/were 4754 passenger(s) that give tips under 3$\n",
      "there was/were 1075 passenger(s) that give tips between 3$ and 5$\n",
      "there was/were 637 passenger(s) that give tips above 5$\n",
      "the highest tip is 160.0\n"
     ]
    }
   ],
   "metadata": {}
  },
  {
   "cell_type": "code",
   "execution_count": 30,
   "source": [
    "questionEight(dataMedium)"
   ],
   "outputs": [
    {
     "output_type": "stream",
     "name": "stdout",
     "text": [
      "Time to exec func 0.25308 sec:\n",
      "there was/were 358360 passenger(s) that do not give drive any tips\n",
      "there was/were 476575 passenger(s) that give tips under 3$\n",
      "there was/were 109347 passenger(s) that give tips between 3$ and 5$\n",
      "there was/were 65718 passenger(s) that give tips above 5$\n",
      "the highest tip is 440.25\n"
     ]
    }
   ],
   "metadata": {}
  },
  {
   "cell_type": "code",
   "execution_count": 31,
   "source": [
    "questionEight(dataLarge)"
   ],
   "outputs": [
    {
     "output_type": "stream",
     "name": "stdout",
     "text": [
      "Time to exec func 7.48777 sec:\n",
      "there was/were 8726141 passenger(s) that do not give drive any tips\n",
      "there was/were 11604148 passenger(s) that give tips under 3$\n",
      "there was/were 2672374 passenger(s) that give tips between 3$ and 5$\n",
      "there was/were 1600338 passenger(s) that give tips above 5$\n",
      "the highest tip is 850.0\n"
     ]
    }
   ],
   "metadata": {}
  },
  {
   "cell_type": "markdown",
   "source": [
    "Question 9:"
   ],
   "metadata": {}
  },
  {
   "cell_type": "code",
   "execution_count": 32,
   "source": [
    "def questionNight(data):\r\n",
    "    timer = Timer()\r\n",
    "    m = int(input('Which month you want to choose, Feb or Mar? Input a number: '))\r\n",
    "    d = int(input('Input a day: '))\r\n",
    "    timer.start()\r\n",
    "    df3 = pd.DataFrame()\r\n",
    "    df3 = data[(data['month'] == m) & (data['day'] == d)].reset_index(drop=True)\r\n",
    "    duration = []\r\n",
    "    df3['time'] = pd.to_datetime(df3['tpep_dropoff_datetime']) - pd.to_datetime(df3['tpep_pickup_datetime'])\r\n",
    "    for i in df3['time']:\r\n",
    "        duration.append(i.seconds)\r\n",
    "    df3['duration (seconds)'] = duration\r\n",
    "    df3['average velocity (km/h)'] = round(3.6*(df3['trip_distance']*1000/df3['duration (seconds)']),3)\r\n",
    "    df3 = df3.sort_values('duration (seconds)',ascending=False).reset_index(drop=True)\r\n",
    "    print('Time to exec func %.5f sec:' % timer.stop())\r\n",
    "    print('the three logest trip are')\r\n",
    "    result = df3[['trip_distance','time','duration (seconds)','average velocity (km/h)']][:3]\r\n",
    "    return result"
   ],
   "outputs": [],
   "metadata": {}
  },
  {
   "cell_type": "code",
   "execution_count": 33,
   "source": [
    "questionNight(dataSmall)"
   ],
   "outputs": [
    {
     "output_type": "stream",
     "name": "stdout",
     "text": [
      "Time to exec func 0.05972 sec:\n",
      "the three logest trip are\n"
     ]
    },
    {
     "output_type": "execute_result",
     "data": {
      "text/html": [
       "<div>\n",
       "<style scoped>\n",
       "    .dataframe tbody tr th:only-of-type {\n",
       "        vertical-align: middle;\n",
       "    }\n",
       "\n",
       "    .dataframe tbody tr th {\n",
       "        vertical-align: top;\n",
       "    }\n",
       "\n",
       "    .dataframe thead th {\n",
       "        text-align: right;\n",
       "    }\n",
       "</style>\n",
       "<table border=\"1\" class=\"dataframe\">\n",
       "  <thead>\n",
       "    <tr style=\"text-align: right;\">\n",
       "      <th></th>\n",
       "      <th>trip_distance</th>\n",
       "      <th>time</th>\n",
       "      <th>duration (seconds)</th>\n",
       "      <th>average velocity (km/h)</th>\n",
       "    </tr>\n",
       "  </thead>\n",
       "  <tbody>\n",
       "    <tr>\n",
       "      <th>0</th>\n",
       "      <td>16.50</td>\n",
       "      <td>0 days 01:25:45</td>\n",
       "      <td>5145</td>\n",
       "      <td>11.545</td>\n",
       "    </tr>\n",
       "    <tr>\n",
       "      <th>1</th>\n",
       "      <td>18.30</td>\n",
       "      <td>0 days 01:21:42</td>\n",
       "      <td>4902</td>\n",
       "      <td>13.439</td>\n",
       "    </tr>\n",
       "    <tr>\n",
       "      <th>2</th>\n",
       "      <td>9.69</td>\n",
       "      <td>0 days 00:49:11</td>\n",
       "      <td>2951</td>\n",
       "      <td>11.821</td>\n",
       "    </tr>\n",
       "  </tbody>\n",
       "</table>\n",
       "</div>"
      ],
      "text/plain": [
       "   trip_distance            time  duration (seconds)  average velocity (km/h)\n",
       "0          16.50 0 days 01:25:45                5145                   11.545\n",
       "1          18.30 0 days 01:21:42                4902                   13.439\n",
       "2           9.69 0 days 00:49:11                2951                   11.821"
      ]
     },
     "metadata": {},
     "execution_count": 33
    }
   ],
   "metadata": {}
  },
  {
   "cell_type": "code",
   "execution_count": 34,
   "source": [
    "questionNight(dataMedium)"
   ],
   "outputs": [
    {
     "output_type": "stream",
     "name": "stdout",
     "text": [
      "Time to exec func 0.39066 sec:\n",
      "the three logest trip are\n"
     ]
    },
    {
     "output_type": "execute_result",
     "data": {
      "text/html": [
       "<div>\n",
       "<style scoped>\n",
       "    .dataframe tbody tr th:only-of-type {\n",
       "        vertical-align: middle;\n",
       "    }\n",
       "\n",
       "    .dataframe tbody tr th {\n",
       "        vertical-align: top;\n",
       "    }\n",
       "\n",
       "    .dataframe thead th {\n",
       "        text-align: right;\n",
       "    }\n",
       "</style>\n",
       "<table border=\"1\" class=\"dataframe\">\n",
       "  <thead>\n",
       "    <tr style=\"text-align: right;\">\n",
       "      <th></th>\n",
       "      <th>trip_distance</th>\n",
       "      <th>time</th>\n",
       "      <th>duration (seconds)</th>\n",
       "      <th>average velocity (km/h)</th>\n",
       "    </tr>\n",
       "  </thead>\n",
       "  <tbody>\n",
       "    <tr>\n",
       "      <th>0</th>\n",
       "      <td>3.94</td>\n",
       "      <td>0 days 23:59:45</td>\n",
       "      <td>86385</td>\n",
       "      <td>0.164</td>\n",
       "    </tr>\n",
       "    <tr>\n",
       "      <th>1</th>\n",
       "      <td>1.62</td>\n",
       "      <td>0 days 23:57:40</td>\n",
       "      <td>86260</td>\n",
       "      <td>0.068</td>\n",
       "    </tr>\n",
       "    <tr>\n",
       "      <th>2</th>\n",
       "      <td>2.29</td>\n",
       "      <td>0 days 23:55:58</td>\n",
       "      <td>86158</td>\n",
       "      <td>0.096</td>\n",
       "    </tr>\n",
       "  </tbody>\n",
       "</table>\n",
       "</div>"
      ],
      "text/plain": [
       "   trip_distance            time  duration (seconds)  average velocity (km/h)\n",
       "0           3.94 0 days 23:59:45               86385                    0.164\n",
       "1           1.62 0 days 23:57:40               86260                    0.068\n",
       "2           2.29 0 days 23:55:58               86158                    0.096"
      ]
     },
     "metadata": {},
     "execution_count": 34
    }
   ],
   "metadata": {}
  },
  {
   "cell_type": "code",
   "execution_count": 35,
   "source": [
    "questionNight(dataLarge)"
   ],
   "outputs": [
    {
     "output_type": "stream",
     "name": "stdout",
     "text": [
      "Time to exec func 10.33849 sec:\n",
      "the three logest trip are\n"
     ]
    },
    {
     "output_type": "execute_result",
     "data": {
      "text/html": [
       "<div>\n",
       "<style scoped>\n",
       "    .dataframe tbody tr th:only-of-type {\n",
       "        vertical-align: middle;\n",
       "    }\n",
       "\n",
       "    .dataframe tbody tr th {\n",
       "        vertical-align: top;\n",
       "    }\n",
       "\n",
       "    .dataframe thead th {\n",
       "        text-align: right;\n",
       "    }\n",
       "</style>\n",
       "<table border=\"1\" class=\"dataframe\">\n",
       "  <thead>\n",
       "    <tr style=\"text-align: right;\">\n",
       "      <th></th>\n",
       "      <th>trip_distance</th>\n",
       "      <th>time</th>\n",
       "      <th>duration (seconds)</th>\n",
       "      <th>average velocity (km/h)</th>\n",
       "    </tr>\n",
       "  </thead>\n",
       "  <tbody>\n",
       "    <tr>\n",
       "      <th>0</th>\n",
       "      <td>0.00</td>\n",
       "      <td>0 days 23:59:55</td>\n",
       "      <td>86395</td>\n",
       "      <td>0.000</td>\n",
       "    </tr>\n",
       "    <tr>\n",
       "      <th>1</th>\n",
       "      <td>1.84</td>\n",
       "      <td>0 days 23:59:50</td>\n",
       "      <td>86390</td>\n",
       "      <td>0.077</td>\n",
       "    </tr>\n",
       "    <tr>\n",
       "      <th>2</th>\n",
       "      <td>3.94</td>\n",
       "      <td>0 days 23:59:45</td>\n",
       "      <td>86385</td>\n",
       "      <td>0.164</td>\n",
       "    </tr>\n",
       "  </tbody>\n",
       "</table>\n",
       "</div>"
      ],
      "text/plain": [
       "   trip_distance            time  duration (seconds)  average velocity (km/h)\n",
       "0           0.00 0 days 23:59:55               86395                    0.000\n",
       "1           1.84 0 days 23:59:50               86390                    0.077\n",
       "2           3.94 0 days 23:59:45               86385                    0.164"
      ]
     },
     "metadata": {},
     "execution_count": 35
    }
   ],
   "metadata": {}
  },
  {
   "cell_type": "markdown",
   "source": [
    "Question 10:"
   ],
   "metadata": {}
  },
  {
   "cell_type": "code",
   "execution_count": null,
   "source": [],
   "outputs": [],
   "metadata": {}
  }
 ],
 "metadata": {
  "orig_nbformat": 4,
  "language_info": {
   "name": "python",
   "version": "3.9.0",
   "mimetype": "text/x-python",
   "codemirror_mode": {
    "name": "ipython",
    "version": 3
   },
   "pygments_lexer": "ipython3",
   "nbconvert_exporter": "python",
   "file_extension": ".py"
  },
  "kernelspec": {
   "name": "python3",
   "display_name": "Python 3.9.0 64-bit"
  },
  "interpreter": {
   "hash": "8da01e5a71448ea74f54d88afa8911010d1d12e23bc7e103d40d5def4a09152c"
  }
 },
 "nbformat": 4,
 "nbformat_minor": 2
}